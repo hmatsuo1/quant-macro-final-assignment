{
  "nbformat": 4,
  "nbformat_minor": 0,
  "metadata": {
    "colab": {
      "provenance": [],
      "authorship_tag": "ABX9TyPsHSjdb/A2wqWUXz8zWcGz",
      "include_colab_link": true
    },
    "kernelspec": {
      "name": "python3",
      "display_name": "Python 3"
    },
    "language_info": {
      "name": "python"
    }
  },
  "cells": [
    {
      "cell_type": "markdown",
      "metadata": {
        "id": "view-in-github",
        "colab_type": "text"
      },
      "source": [
        "<a href=\"https://colab.research.google.com/github/hmatsuo1/quant-macro-final-assignment/blob/master/additional_part_redistribution_effect_of_pension_py.ipynb\" target=\"_parent\"><img src=\"https://colab.research.google.com/assets/colab-badge.svg\" alt=\"Open In Colab\"/></a>"
      ]
    },
    {
      "cell_type": "code",
      "execution_count": null,
      "metadata": {
        "id": "HrVnUIVN_ILC"
      },
      "outputs": [],
      "source": [
        "# import libraries\n",
        "import numpy as np\n",
        "import matplotlib.pyplot as plt\n",
        "\n",
        "# parameters\n",
        "gamma = 2.0\n",
        "beta = 0.985**20\n",
        "r = 1.025**20 - 1.0\n",
        "l = np.array([0.8027, 1.0, 1.2457])  # labor productivity\n",
        "NL = 3\n",
        "P = np.array([\n",
        "    [0.7451, 0.2528, 0.0021],\n",
        "    [0.1360, 0.7281, 0.1360],\n",
        "    [0.0021, 0.2528, 0.7451]\n",
        "])\n",
        "NA = 300\n",
        "a_min = 0.0\n",
        "a_max = 2.0\n",
        "a = np.linspace(a_min, a_max, NA)\n",
        "pension = 0.498606\n",
        "\n",
        "# utility function\n",
        "def utility(c, gamma):\n",
        "    return max(c, 1e-4)**(1 - gamma) / (1 - gamma)\n",
        "\n",
        "# function to solve model and return a₂ policy functions\n",
        "def solve_policy(with_pension):\n",
        "    v = np.zeros((3, NA, NL))\n",
        "    ap = np.zeros((3, NA, NL))\n",
        "    for ia in range(NA):\n",
        "        for il in range(NL):\n",
        "            c = (1 + r) * a[ia] + (pension if with_pension else 0.0)\n",
        "            v[2, ia, il] = utility(c, gamma)\n",
        "            ap[2, ia, il] = 0.0\n",
        "    for ia in range(NA):\n",
        "        for il in range(NL):\n",
        "            income = (1 - 0.3) * l[il] if with_pension else l[il]\n",
        "            reward = np.zeros(NA)\n",
        "            for iap in range(NA):\n",
        "                c = income + (1 + r) * a[ia] - a[iap]\n",
        "                reward[iap] = utility(c, gamma) + beta * v[2, iap, il]\n",
        "            idx = np.argmax(reward)\n",
        "            ap[1, ia, il] = a[idx]\n",
        "            v[1, ia, il] = reward[idx]\n",
        "    for ia in range(NA):\n",
        "        for il in range(NL):\n",
        "            reward = np.zeros(NA)\n",
        "            for iap in range(NA):\n",
        "                EV = sum(P[il, ilp] * v[1, iap, ilp] for ilp in range(NL))\n",
        "                c = l[il] + (1 + r) * a[ia] - a[iap]\n",
        "                reward[iap] = utility(c, gamma) + beta * EV\n",
        "            idx = np.argmax(reward)\n",
        "            ap[0, ia, il] = a[idx]\n",
        "            v[0, ia, il] = reward[idx]\n",
        "    return ap[0, :, :]  # return only period 1 policy function a₂(a₁)\n",
        "\n",
        "# solve for both cases\n",
        "ap_young_wo = solve_policy(with_pension=False)  # without pension\n",
        "ap_young_with = solve_policy(with_pension=True)  # with pension\n",
        "\n",
        "# compute high - low gap for both cases\n",
        "gap_wo = ap_young_wo[:, 2] - ap_young_wo[:, 0]\n",
        "gap_with = ap_young_with[:, 2] - ap_young_with[:, 0]\n",
        "\n",
        "# plot the results\n",
        "plt.figure(figsize=(10, 5))\n",
        "plt.plot(a, gap_wo, label='Without Pension', linewidth=2)\n",
        "plt.plot(a, gap_with, label='With Pension', linewidth=2)\n",
        "plt.title('Policy Gap (a₂^High − a₂^Low) by Initial Asset (a₁)', fontsize=14)\n",
        "plt.xlabel('Initial Asset in Period 1 (a₁)', fontsize=12)\n",
        "plt.ylabel('Gap in Next Asset (a₂)', fontsize=12)\n",
        "plt.legend()\n",
        "plt.grid(True)\n",
        "plt.tight_layout()\n",
        "plt.show()"
      ]
    }
  ]
}