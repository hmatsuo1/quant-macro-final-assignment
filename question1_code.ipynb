{
  "nbformat": 4,
  "nbformat_minor": 0,
  "metadata": {
    "colab": {
      "provenance": [],
      "authorship_tag": "ABX9TyNZLXw0erYmULaqGIFuVfL7",
      "include_colab_link": true
    },
    "kernelspec": {
      "name": "python3",
      "display_name": "Python 3"
    },
    "language_info": {
      "name": "python"
    }
  },
  "cells": [
    {
      "cell_type": "markdown",
      "metadata": {
        "id": "view-in-github",
        "colab_type": "text"
      },
      "source": [
        "<a href=\"https://colab.research.google.com/github/hmatsuo1/quant-macro-final-assignment/blob/master/question1_code.ipynb\" target=\"_parent\"><img src=\"https://colab.research.google.com/assets/colab-badge.svg\" alt=\"Open In Colab\"/></a>"
      ]
    },
    {
      "cell_type": "code",
      "execution_count": null,
      "metadata": {
        "id": "DQZq-nyZAkRj"
      },
      "outputs": [],
      "source": [
        "# importing libraries\n",
        "\n",
        "import numpy as np\n",
        "import matplotlib.pyplot as plt\n",
        "from scipy.optimize import minimize_scalar\n",
        "\n",
        "# parameters\n",
        "gamma = 2.0\n",
        "beta = 0.985**20\n",
        "r = 1.025**20 - 1.0\n",
        "l = np.array([0.8027, 1.0, 1.2457])  # productivity levels\n",
        "NL = 3\n",
        "P = np.array([\n",
        "    [0.7451, 0.2528, 0.0021],\n",
        "    [0.1360, 0.7281, 0.1360],\n",
        "    [0.0021, 0.2528, 0.7451]\n",
        "])  # transition prob\n",
        "\n",
        "# utility function\n",
        "def util(cons, gamma):\n",
        "    return max(cons, 1e-4)**(1.0-gamma)/(1.0-gamma)\n",
        "\n",
        "# asset grid\n",
        "a_l = 0.0\n",
        "a_u = 2.0\n",
        "NA = 100\n",
        "a = np.linspace(a_l, a_u, NA)\n",
        "\n",
        "JJ = 3  # periods\n",
        "v = np.zeros((JJ, NA, NL))\n",
        "iaplus = np.zeros((JJ, NA, NL), dtype=int)\n",
        "aplus = np.zeros((JJ, NA, NL))\n",
        "\n",
        "# backward induction\n",
        "# period 3 (old age, consume all assets)\n",
        "for ia in range(NA):\n",
        "    for il in range(NL):\n",
        "        v[2, ia, il] = util((1 + r) * a[ia], gamma)\n",
        "        aplus[2, ia, il] = 0.0  # consume all\n",
        "\n",
        "# period 2 (middle age)\n",
        "for ia in range(NA):\n",
        "    for il in range(NL):\n",
        "        reward = np.zeros(NA)\n",
        "        for iap in range(NA):\n",
        "            reward[iap] = util(l[il] + (1 + r) * a[ia] - a[iap], gamma) + beta * v[2, iap, il]\n",
        "        iaplus[1, ia, il] = np.argmax(reward)\n",
        "        aplus[1, ia, il] = a[iaplus[1, ia, il]]\n",
        "        v[1, ia, il] = reward[iaplus[1, ia, il]]\n",
        "\n",
        "# period 1 (young age)\n",
        "for ia in range(NA):\n",
        "    for il in range(NL):\n",
        "        reward = np.zeros(NA)\n",
        "        for iap in range(NA):\n",
        "            EV = 0.0\n",
        "            for ilp in range(NL):\n",
        "                EV += P[il, ilp] * v[1, iap, ilp]\n",
        "            reward[iap] = util(l[il] + (1 + r) * a[ia] - a[iap], gamma) + beta * EV\n",
        "        iaplus[0, ia, il] = np.argmax(reward)\n",
        "        aplus[0, ia, il] = a[iaplus[0, ia, il]]\n",
        "        v[0, ia, il] = reward[iaplus[0, ia, il]]\n",
        "\n",
        "# figure\n",
        "plt.figure()\n",
        "plt.plot(a, aplus[0, :, 0], label='Low productivity', linewidth=2)\n",
        "plt.plot(a, aplus[0, :, 1], label='Middle productivity', linewidth=2)\n",
        "plt.plot(a, aplus[0, :, 2], label='High productivity', linewidth=2)\n",
        "plt.title('Policy Function without Pension', fontsize=14)\n",
        "plt.xlabel('Initial Asset (a₁)', fontsize=12)\n",
        "plt.ylabel('Next Asset (a₂)', fontsize=12)\n",
        "plt.grid(True)\n",
        "plt.legend()\n",
        "plt.show()"
      ]
    }
  ]
}