{
  "nbformat": 4,
  "nbformat_minor": 0,
  "metadata": {
    "colab": {
      "provenance": [],
      "authorship_tag": "ABX9TyNY6LSgc93NsONa++BRg8oG",
      "include_colab_link": true
    },
    "kernelspec": {
      "name": "python3",
      "display_name": "Python 3"
    },
    "language_info": {
      "name": "python"
    }
  },
  "cells": [
    {
      "cell_type": "markdown",
      "metadata": {
        "id": "view-in-github",
        "colab_type": "text"
      },
      "source": [
        "<a href=\"https://colab.research.google.com/github/hmatsuo1/quant-macro-final-assignment/blob/master/question2_code.ipynb\" target=\"_parent\"><img src=\"https://colab.research.google.com/assets/colab-badge.svg\" alt=\"Open In Colab\"/></a>"
      ]
    },
    {
      "cell_type": "code",
      "execution_count": null,
      "metadata": {
        "id": "sJsTHh_QBm8t"
      },
      "outputs": [],
      "source": [
        "# importing libraries\n",
        "\n",
        "import numpy as np\n",
        "import matplotlib.pyplot as plt\n",
        "from scipy.optimize import minimize_scalar\n",
        "\n",
        "\n",
        "# parameters\n",
        "l = np.array([0.8027, 1.0, 1.2457])  # productivity levels\n",
        "P = np.array([\n",
        "    [0.7451, 0.2528, 0.0021],\n",
        "    [0.1360, 0.7281, 0.1360],\n",
        "    [0.0021, 0.2528, 0.7451]\n",
        "])  # transition prob\n",
        "r = 1.025**20 - 1\n",
        "mu = np.array([1/3, 1/3, 1/3])  # ration of young, middle-aged, and old individuals\n",
        "\n",
        "# 1. calculate tax\n",
        "tax = 0.0\n",
        "for i in range(3):  # 若年期のタイプ\n",
        "    for j in range(3):  # 中年期のタイプ\n",
        "        tax += mu[i] * P[i, j] * 0.3 * l[j]\n",
        "\n",
        "# 2. calculate pension\n",
        "pension = (1 + r) * tax\n",
        "\n",
        "print(f\"総税収（1人あたり）: {tax:.6f}\")\n",
        "print(f\"一人あたり年金額: {pension:.6f}\")"
      ]
    }
  ]
}